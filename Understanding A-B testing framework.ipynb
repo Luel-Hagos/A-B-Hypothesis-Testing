{
 "cells": [
  {
   "cell_type": "markdown",
   "id": "3395867e",
   "metadata": {},
   "source": [
    "# Understanding A/B testing framework"
   ]
  },
  {
   "cell_type": "markdown",
   "id": "0f36e3e0",
   "metadata": {},
   "source": [
    "### 1. Which online users belong to the control and exposed groups?"
   ]
  },
  {
   "cell_type": "code",
   "execution_count": null,
   "id": "547dc217",
   "metadata": {},
   "outputs": [],
   "source": []
  },
  {
   "cell_type": "markdown",
   "id": "fe89ad99",
   "metadata": {},
   "source": [
    "### 2. How are the users targeted?"
   ]
  },
  {
   "cell_type": "code",
   "execution_count": null,
   "id": "fb7619ef",
   "metadata": {},
   "outputs": [],
   "source": []
  },
  {
   "cell_type": "markdown",
   "id": "bc554ac5",
   "metadata": {},
   "source": [
    "### 3. Could we use the counts of yes and no answers to make a judgement on which experiment is performing better? For example if `yes > no` for the exposed group than the control group, could we declare that the ad had a significant impact Why or why not?"
   ]
  },
  {
   "cell_type": "code",
   "execution_count": null,
   "id": "56bb7011",
   "metadata": {},
   "outputs": [],
   "source": []
  },
  {
   "cell_type": "markdown",
   "id": "ee59690e",
   "metadata": {},
   "source": [
    "### 4. What is the statistical process that generates the data? Which kind of statistical model will you use if you were to simulate the data?"
   ]
  },
  {
   "cell_type": "code",
   "execution_count": null,
   "id": "5326c2e2",
   "metadata": {},
   "outputs": [],
   "source": []
  },
  {
   "cell_type": "markdown",
   "id": "0c9d60c3",
   "metadata": {},
   "source": [
    "### 5. Assessment of the statistical significance of an A/B test is dependent on what kind of probability distribution the experimental data follows. Given your answer above, which statistical tests (z-test, t-test, etc.) are appropriate to use for this project?"
   ]
  },
  {
   "cell_type": "code",
   "execution_count": null,
   "id": "56d358ec",
   "metadata": {},
   "outputs": [],
   "source": []
  },
  {
   "cell_type": "markdown",
   "id": "f6df4fca",
   "metadata": {},
   "source": [
    "### 6. In classical (frequentist) `A/B` testing, we use `p-values` to measure the significance of the experimental feature (being exposed to an ad in our case) over the `null hypothesis` (the hypothesis that there is no difference in brand awareness between the exposed and control groups in the current case). How are `p-values` computed? What information do `p-values` provide? What are the `type-I` and t`ype-II` errors you may have in the analysis? Can you comment on which error types p-values are related?"
   ]
  },
  {
   "cell_type": "code",
   "execution_count": null,
   "id": "89435663",
   "metadata": {},
   "outputs": [],
   "source": []
  },
  {
   "cell_type": "markdown",
   "id": "2b8a3a3d",
   "metadata": {},
   "source": [
    "### 7. How does the classical A/B testing (using z-test, f-test, etc.) framework work?"
   ]
  },
  {
   "cell_type": "code",
   "execution_count": null,
   "id": "255d8a7b",
   "metadata": {},
   "outputs": [],
   "source": []
  },
  {
   "cell_type": "markdown",
   "id": "7ff6f220",
   "metadata": {},
   "source": [
    "### 8. How does sequential A/B testing work?"
   ]
  },
  {
   "cell_type": "code",
   "execution_count": null,
   "id": "83015cf5",
   "metadata": {},
   "outputs": [],
   "source": []
  },
  {
   "cell_type": "markdown",
   "id": "d7cf8922",
   "metadata": {},
   "source": [
    "### 9. What are some of the advantages of sequential A/B testing?"
   ]
  },
  {
   "cell_type": "code",
   "execution_count": null,
   "id": "d5532464",
   "metadata": {},
   "outputs": [],
   "source": []
  },
  {
   "cell_type": "markdown",
   "id": "c86c1035",
   "metadata": {},
   "source": [
    "### 10. How is A/B testing done using machine learning? What is the core idea behind this approach? In other words, what part of the machine learning analysis provides the insight regarding the high or no significance of the experimental feature?"
   ]
  },
  {
   "cell_type": "code",
   "execution_count": null,
   "id": "4725a2b2",
   "metadata": {},
   "outputs": [],
   "source": []
  },
  {
   "cell_type": "markdown",
   "id": "3a59c1ec",
   "metadata": {},
   "source": [
    "### 11. What are the pros and cons of using Machine learning to perform A/B testing?"
   ]
  },
  {
   "cell_type": "code",
   "execution_count": null,
   "id": "30381f20",
   "metadata": {},
   "outputs": [],
   "source": []
  },
  {
   "cell_type": "markdown",
   "id": "84b41e48",
   "metadata": {},
   "source": [
    "### 12. In max three statements, make a problem formulation for machine learning and specify the target variable"
   ]
  },
  {
   "cell_type": "code",
   "execution_count": null,
   "id": "3a084580",
   "metadata": {},
   "outputs": [],
   "source": []
  },
  {
   "cell_type": "code",
   "execution_count": null,
   "id": "0b34067c",
   "metadata": {},
   "outputs": [],
   "source": []
  }
 ],
 "metadata": {
  "kernelspec": {
   "display_name": "Python 3",
   "language": "python",
   "name": "python3"
  },
  "language_info": {
   "codemirror_mode": {
    "name": "ipython",
    "version": 3
   },
   "file_extension": ".py",
   "mimetype": "text/x-python",
   "name": "python",
   "nbconvert_exporter": "python",
   "pygments_lexer": "ipython3",
   "version": "3.8.5"
  }
 },
 "nbformat": 4,
 "nbformat_minor": 5
}
