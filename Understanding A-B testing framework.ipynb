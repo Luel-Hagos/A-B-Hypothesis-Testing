{
 "cells": [
  {
   "cell_type": "markdown",
   "id": "fd960f3c",
   "metadata": {},
   "source": [
    "# Understanding A/B testing framework"
   ]
  },
  {
   "cell_type": "markdown",
   "id": "4b9f5ab8",
   "metadata": {},
   "source": [
    "### 1. Which online users belong to the control and exposed groups?"
   ]
  },
  {
   "cell_type": "code",
   "execution_count": null,
   "id": "c88b5ab8",
   "metadata": {},
   "outputs": [],
   "source": []
  },
  {
   "cell_type": "markdown",
   "id": "befe9791",
   "metadata": {},
   "source": [
    "### 2. How are the users targeted?"
   ]
  },
  {
   "cell_type": "markdown",
   "id": "1acc0f80",
   "metadata": {},
   "source": [
    "### 3. Could we use the counts of yes and no answers to make a judgement on which experiment is performing better? For example if `yes > no` for the exposed group than the control group, could we declare that the ad had a significant impact Why or why not?"
   ]
  },
  {
   "cell_type": "markdown",
   "id": "244b5e61",
   "metadata": {},
   "source": [
    "### 4. What is the statistical process that generates the data? Which kind of statistical model will you use if you were to simulate the data?"
   ]
  },
  {
   "cell_type": "markdown",
   "id": "2f61cb56",
   "metadata": {},
   "source": [
    "### 5. Assessment of the statistical significance of an A/B test is dependent on what kind of probability distribution the experimental data follows. Given your answer above, which statistical tests (z-test, t-test, etc.) are appropriate to use for this project?"
   ]
  },
  {
   "cell_type": "markdown",
   "id": "c3b82f63",
   "metadata": {},
   "source": [
    "### 6. In classical (frequentist) `A/B` testing, we use `p-values` to measure the significance of the experimental feature (being exposed to an ad in our case) over the `null hypothesis` (the hypothesis that there is no difference in brand awareness between the exposed and control groups in the current case). How are `p-values` computed? What information do `p-values` provide? What are the `type-I` and t`ype-II` errors you may have in the analysis? Can you comment on which error types p-values are related?"
   ]
  },
  {
   "cell_type": "markdown",
   "id": "8d7a1a0d",
   "metadata": {},
   "source": [
    "### 7. How does the classical A/B testing (using z-test, f-test, etc.) framework work?"
   ]
  },
  {
   "cell_type": "markdown",
   "id": "265954b3",
   "metadata": {},
   "source": [
    "### 8. How does sequential A/B testing work?"
   ]
  },
  {
   "cell_type": "markdown",
   "id": "c5820294",
   "metadata": {},
   "source": [
    "### 9. What are some of the advantages of sequential A/B testing?"
   ]
  },
  {
   "cell_type": "markdown",
   "id": "5a8d2545",
   "metadata": {},
   "source": [
    "### 10. How is A/B testing done using machine learning? What is the core idea behind this approach? In other words, what part of the machine learning analysis provides the insight regarding the high or no significance of the experimental feature?"
   ]
  },
  {
   "cell_type": "markdown",
   "id": "917a55eb",
   "metadata": {},
   "source": [
    "### 11. What are the pros and cons of using Machine learning to perform A/B testing?"
   ]
  },
  {
   "cell_type": "markdown",
   "id": "902a2c53",
   "metadata": {},
   "source": [
    "### 12. In max three statements, make a problem formulation for machine learning and specify the target variable"
   ]
  },
  {
   "cell_type": "code",
   "execution_count": null,
   "id": "899a2e55",
   "metadata": {},
   "outputs": [],
   "source": []
  },
  {
   "cell_type": "code",
   "execution_count": null,
   "id": "454902e3",
   "metadata": {},
   "outputs": [],
   "source": []
  }
 ],
 "metadata": {
  "kernelspec": {
   "display_name": "Python 3",
   "language": "python",
   "name": "python3"
  },
  "language_info": {
   "codemirror_mode": {
    "name": "ipython",
    "version": 3
   },
   "file_extension": ".py",
   "mimetype": "text/x-python",
   "name": "python",
   "nbconvert_exporter": "python",
   "pygments_lexer": "ipython3",
   "version": "3.8.5"
  }
 },
 "nbformat": 4,
 "nbformat_minor": 5
}
