{
 "cells": [
  {
   "cell_type": "code",
   "execution_count": null,
   "id": "7a0b7feb",
   "metadata": {},
   "outputs": [],
   "source": [
    "!ls"
   ]
  },
  {
   "cell_type": "markdown",
   "id": "04c856a6",
   "metadata": {},
   "source": [
    "## Imports"
   ]
  },
  {
   "cell_type": "code",
   "execution_count": 1,
   "id": "eba2b0e3",
   "metadata": {},
   "outputs": [],
   "source": [
    "# import required librarier\n",
    "%matplotlib inline\n",
    "import pandas as pd\n",
    "import numpy as np\n",
    "import seaborn as sns\n",
    "import matplotlib.pyplot as plt"
   ]
  },
  {
   "cell_type": "markdown",
   "id": "9fa6d7bd",
   "metadata": {},
   "source": [
    "## Load data"
   ]
  },
  {
   "cell_type": "code",
   "execution_count": 2,
   "id": "2d70e62b",
   "metadata": {},
   "outputs": [],
   "source": [
    "data = pd.read_csv('data/AdSmartABdata.csv')"
   ]
  },
  {
   "cell_type": "markdown",
   "id": "41070893",
   "metadata": {},
   "source": [
    "## Data Visualization"
   ]
  },
  {
   "cell_type": "code",
   "execution_count": 3,
   "id": "718261de",
   "metadata": {},
   "outputs": [
    {
     "data": {
      "text/html": [
       "<div>\n",
       "<style scoped>\n",
       "    .dataframe tbody tr th:only-of-type {\n",
       "        vertical-align: middle;\n",
       "    }\n",
       "\n",
       "    .dataframe tbody tr th {\n",
       "        vertical-align: top;\n",
       "    }\n",
       "\n",
       "    .dataframe thead th {\n",
       "        text-align: right;\n",
       "    }\n",
       "</style>\n",
       "<table border=\"1\" class=\"dataframe\">\n",
       "  <thead>\n",
       "    <tr style=\"text-align: right;\">\n",
       "      <th></th>\n",
       "      <th>auction_id</th>\n",
       "      <th>experiment</th>\n",
       "      <th>date</th>\n",
       "      <th>hour</th>\n",
       "      <th>device_make</th>\n",
       "      <th>platform_os</th>\n",
       "      <th>browser</th>\n",
       "      <th>yes</th>\n",
       "      <th>no</th>\n",
       "    </tr>\n",
       "  </thead>\n",
       "  <tbody>\n",
       "    <tr>\n",
       "      <th>0</th>\n",
       "      <td>0008ef63-77a7-448b-bd1e-075f42c55e39</td>\n",
       "      <td>exposed</td>\n",
       "      <td>2020-07-10</td>\n",
       "      <td>8</td>\n",
       "      <td>Generic Smartphone</td>\n",
       "      <td>6</td>\n",
       "      <td>Chrome Mobile</td>\n",
       "      <td>0</td>\n",
       "      <td>0</td>\n",
       "    </tr>\n",
       "    <tr>\n",
       "      <th>1</th>\n",
       "      <td>000eabc5-17ce-4137-8efe-44734d914446</td>\n",
       "      <td>exposed</td>\n",
       "      <td>2020-07-07</td>\n",
       "      <td>10</td>\n",
       "      <td>Generic Smartphone</td>\n",
       "      <td>6</td>\n",
       "      <td>Chrome Mobile</td>\n",
       "      <td>0</td>\n",
       "      <td>0</td>\n",
       "    </tr>\n",
       "    <tr>\n",
       "      <th>2</th>\n",
       "      <td>0016d14a-ae18-4a02-a204-6ba53b52f2ed</td>\n",
       "      <td>exposed</td>\n",
       "      <td>2020-07-05</td>\n",
       "      <td>2</td>\n",
       "      <td>E5823</td>\n",
       "      <td>6</td>\n",
       "      <td>Chrome Mobile WebView</td>\n",
       "      <td>0</td>\n",
       "      <td>1</td>\n",
       "    </tr>\n",
       "    <tr>\n",
       "      <th>3</th>\n",
       "      <td>00187412-2932-4542-a8ef-3633901c98d9</td>\n",
       "      <td>control</td>\n",
       "      <td>2020-07-03</td>\n",
       "      <td>15</td>\n",
       "      <td>Samsung SM-A705FN</td>\n",
       "      <td>6</td>\n",
       "      <td>Facebook</td>\n",
       "      <td>0</td>\n",
       "      <td>0</td>\n",
       "    </tr>\n",
       "    <tr>\n",
       "      <th>4</th>\n",
       "      <td>001a7785-d3fe-4e11-a344-c8735acacc2c</td>\n",
       "      <td>control</td>\n",
       "      <td>2020-07-03</td>\n",
       "      <td>15</td>\n",
       "      <td>Generic Smartphone</td>\n",
       "      <td>6</td>\n",
       "      <td>Chrome Mobile</td>\n",
       "      <td>0</td>\n",
       "      <td>0</td>\n",
       "    </tr>\n",
       "  </tbody>\n",
       "</table>\n",
       "</div>"
      ],
      "text/plain": [
       "                             auction_id experiment        date  hour  \\\n",
       "0  0008ef63-77a7-448b-bd1e-075f42c55e39    exposed  2020-07-10     8   \n",
       "1  000eabc5-17ce-4137-8efe-44734d914446    exposed  2020-07-07    10   \n",
       "2  0016d14a-ae18-4a02-a204-6ba53b52f2ed    exposed  2020-07-05     2   \n",
       "3  00187412-2932-4542-a8ef-3633901c98d9    control  2020-07-03    15   \n",
       "4  001a7785-d3fe-4e11-a344-c8735acacc2c    control  2020-07-03    15   \n",
       "\n",
       "          device_make  platform_os                browser  yes  no  \n",
       "0  Generic Smartphone            6          Chrome Mobile    0   0  \n",
       "1  Generic Smartphone            6          Chrome Mobile    0   0  \n",
       "2               E5823            6  Chrome Mobile WebView    0   1  \n",
       "3   Samsung SM-A705FN            6               Facebook    0   0  \n",
       "4  Generic Smartphone            6          Chrome Mobile    0   0  "
      ]
     },
     "execution_count": 3,
     "metadata": {},
     "output_type": "execute_result"
    }
   ],
   "source": [
    "# Return the first 5 rows\n",
    "data.head()"
   ]
  },
  {
   "cell_type": "code",
   "execution_count": 4,
   "id": "e9183dc6",
   "metadata": {},
   "outputs": [
    {
     "data": {
      "text/plain": [
       "['auction_id',\n",
       " 'experiment',\n",
       " 'date',\n",
       " 'hour',\n",
       " 'device_make',\n",
       " 'platform_os',\n",
       " 'browser',\n",
       " 'yes',\n",
       " 'no']"
      ]
     },
     "execution_count": 4,
     "metadata": {},
     "output_type": "execute_result"
    }
   ],
   "source": [
    "# column names\n",
    "list(data.columns)"
   ]
  },
  {
   "cell_type": "code",
   "execution_count": 5,
   "id": "d2e21b0f",
   "metadata": {},
   "outputs": [
    {
     "name": "stdout",
     "output_type": "stream",
     "text": [
      " There are 8077 rows and 9 columns\n"
     ]
    }
   ],
   "source": [
    "# number of data points\n",
    "print(f\" There are {data.shape[0]} rows and {data.shape[1]} columns\")"
   ]
  },
  {
   "cell_type": "code",
   "execution_count": 6,
   "id": "98984bcf",
   "metadata": {},
   "outputs": [
    {
     "data": {
      "image/png": "[encoded data removed]",
      "text/plain": [
       "<Figure size 432x288 with 1 Axes>"
      ]
     },
     "metadata": {
      "needs_background": "light"
     },
     "output_type": "display_data"
    }
   ],
   "source": [
    "#bar plot for browser\n",
    "browser_data_count = data['browser'].value_counts()\n",
    "browser_data_count.plot.bar(color ='maroon', width = 0.8)\n",
    "plt.xlabel('browser', fontweight ='bold', fontsize = 15)\n",
    "plt.ylabel('Total users', fontweight ='bold', fontsize = 15)\n",
    "plt.show()"
   ]
  },
  {
   "cell_type": "code",
   "execution_count": 7,
   "id": "2e089fc0",
   "metadata": {},
   "outputs": [
    {
     "name": "stdout",
     "output_type": "stream",
     "text": [
      "There are 4071 number of controled , and 4006 number of exposed groups.\n"
     ]
    }
   ],
   "source": [
    "#Total number of controled and exposed group\n",
    "controled = len((data[(data['experiment']== \"control\" )]).index) #total number of controlled groups\n",
    "exposed = len((data[(data['experiment']== \"exposed\" )]).index) #total number of exposed groups\n",
    "print(f'There are {controled} number of controled , and {exposed} number of exposed groups.')"
   ]
  },
  {
   "cell_type": "code",
   "execution_count": 8,
   "id": "008ad953",
   "metadata": {},
   "outputs": [
    {
     "data": {
      "image/png": "[encoded data removed]",
      "text/plain": [
       "<Figure size 432x288 with 1 Axes>"
      ]
     },
     "metadata": {
      "needs_background": "light"
     },
     "output_type": "display_data"
    }
   ],
   "source": [
    "#bar plot number of control and exposed\n",
    "df = pd.DataFrame({'controled': controled, 'exposed': exposed}, ['0', '1'])\n",
    "browser = data['experiment'].value_counts()\n",
    "browser.plot.bar(width = 0.8)\n",
    "plt.xlabel('experiment type', fontweight ='bold', fontsize = 15)\n",
    "plt.ylabel('Total experiment', fontweight ='bold', fontsize = 15)\n",
    "plt.show()"
   ]
  },
  {
   "cell_type": "markdown",
   "id": "dffad756",
   "metadata": {},
   "source": [
    "### Merge yes and no columns"
   ]
  },
  {
   "cell_type": "code",
   "execution_count": 9,
   "id": "4d895ac4",
   "metadata": {},
   "outputs": [
    {
     "data": {
      "text/html": [
       "<div>\n",
       "<style scoped>\n",
       "    .dataframe tbody tr th:only-of-type {\n",
       "        vertical-align: middle;\n",
       "    }\n",
       "\n",
       "    .dataframe tbody tr th {\n",
       "        vertical-align: top;\n",
       "    }\n",
       "\n",
       "    .dataframe thead th {\n",
       "        text-align: right;\n",
       "    }\n",
       "</style>\n",
       "<table border=\"1\" class=\"dataframe\">\n",
       "  <thead>\n",
       "    <tr style=\"text-align: right;\">\n",
       "      <th></th>\n",
       "      <th>auction_id</th>\n",
       "      <th>experiment</th>\n",
       "      <th>date</th>\n",
       "      <th>hour</th>\n",
       "      <th>device_make</th>\n",
       "      <th>platform_os</th>\n",
       "      <th>browser</th>\n",
       "      <th>converted</th>\n",
       "    </tr>\n",
       "  </thead>\n",
       "  <tbody>\n",
       "    <tr>\n",
       "      <th>2</th>\n",
       "      <td>0016d14a-ae18-4a02-a204-6ba53b52f2ed</td>\n",
       "      <td>exposed</td>\n",
       "      <td>2020-07-05</td>\n",
       "      <td>2</td>\n",
       "      <td>E5823</td>\n",
       "      <td>6</td>\n",
       "      <td>Chrome Mobile WebView</td>\n",
       "      <td>0</td>\n",
       "    </tr>\n",
       "    <tr>\n",
       "      <th>16</th>\n",
       "      <td>008aafdf-deef-4482-8fec-d98e3da054da</td>\n",
       "      <td>exposed</td>\n",
       "      <td>2020-07-04</td>\n",
       "      <td>16</td>\n",
       "      <td>Generic Smartphone</td>\n",
       "      <td>6</td>\n",
       "      <td>Chrome Mobile</td>\n",
       "      <td>1</td>\n",
       "    </tr>\n",
       "    <tr>\n",
       "      <th>20</th>\n",
       "      <td>00a1384a-5118-4d1b-925b-6cdada50318d</td>\n",
       "      <td>exposed</td>\n",
       "      <td>2020-07-06</td>\n",
       "      <td>8</td>\n",
       "      <td>Generic Smartphone</td>\n",
       "      <td>6</td>\n",
       "      <td>Chrome Mobile</td>\n",
       "      <td>0</td>\n",
       "    </tr>\n",
       "    <tr>\n",
       "      <th>23</th>\n",
       "      <td>00b6fadb-10bd-49e3-a778-290da82f7a8d</td>\n",
       "      <td>control</td>\n",
       "      <td>2020-07-08</td>\n",
       "      <td>4</td>\n",
       "      <td>Samsung SM-A202F</td>\n",
       "      <td>6</td>\n",
       "      <td>Facebook</td>\n",
       "      <td>1</td>\n",
       "    </tr>\n",
       "    <tr>\n",
       "      <th>27</th>\n",
       "      <td>00ebf4a8-060f-4b99-93ac-c62724399483</td>\n",
       "      <td>control</td>\n",
       "      <td>2020-07-03</td>\n",
       "      <td>15</td>\n",
       "      <td>Generic Smartphone</td>\n",
       "      <td>6</td>\n",
       "      <td>Chrome Mobile</td>\n",
       "      <td>0</td>\n",
       "    </tr>\n",
       "  </tbody>\n",
       "</table>\n",
       "</div>"
      ],
      "text/plain": [
       "                              auction_id experiment        date  hour  \\\n",
       "2   0016d14a-ae18-4a02-a204-6ba53b52f2ed    exposed  2020-07-05     2   \n",
       "16  008aafdf-deef-4482-8fec-d98e3da054da    exposed  2020-07-04    16   \n",
       "20  00a1384a-5118-4d1b-925b-6cdada50318d    exposed  2020-07-06     8   \n",
       "23  00b6fadb-10bd-49e3-a778-290da82f7a8d    control  2020-07-08     4   \n",
       "27  00ebf4a8-060f-4b99-93ac-c62724399483    control  2020-07-03    15   \n",
       "\n",
       "           device_make  platform_os                browser  converted  \n",
       "2                E5823            6  Chrome Mobile WebView          0  \n",
       "16  Generic Smartphone            6          Chrome Mobile          1  \n",
       "20  Generic Smartphone            6          Chrome Mobile          0  \n",
       "23    Samsung SM-A202F            6               Facebook          1  \n",
       "27  Generic Smartphone            6          Chrome Mobile          0  "
      ]
     },
     "execution_count": 9,
     "metadata": {},
     "output_type": "execute_result"
    }
   ],
   "source": [
    "yes = pd.DataFrame(data[(data['yes']==1)]) \n",
    "no = pd.DataFrame(data[(data['no']==1)])\n",
    "no['no'] = 0\n",
    "df_yes_no = pd.concat([yes, no]).sort_index()\n",
    "df_yes_no. drop(['no'], axis=1, inplace=True)\n",
    "df_yes_no.rename(columns = {'yes':'converted'}, inplace = True) \n",
    "df_yes_no.head()"
   ]
  },
  {
   "cell_type": "code",
   "execution_count": 10,
   "id": "69c92c49",
   "metadata": {},
   "outputs": [
    {
     "data": {
      "image/png": "[encoded data removed]",
      "text/plain": [
       "<Figure size 432x288 with 1 Axes>"
      ]
     },
     "metadata": {
      "needs_background": "light"
     },
     "output_type": "display_data"
    }
   ],
   "source": [
    "sns.countplot(x=\"converted\", hue=\"experiment\", data=df_yes_no)\n",
    "plt.xlabel('Converted', fontweight ='bold', fontsize = 15)\n",
    "plt.ylabel('Total', fontweight ='bold', fontsize = 15)\n",
    "plt.show()"
   ]
  },
  {
   "cell_type": "markdown",
   "id": "f2f117e4",
   "metadata": {},
   "source": [
    "### Calculate the users who responded yes & no for each group"
   ]
  },
  {
   "cell_type": "code",
   "execution_count": 11,
   "id": "b63265f3",
   "metadata": {},
   "outputs": [],
   "source": [
    "control_yes = len((df_yes_no[(df_yes_no['converted']==1) & (df_yes_no['experiment']== \"control\" )]).index)\n",
    "exposed_yes = len((df_yes_no[(df_yes_no['converted']==1) & (df_yes_no['experiment']== \"exposed\" )]).index)\n",
    "control_no = len((df_yes_no[(df_yes_no['converted']==0) & (df_yes_no['experiment']== \"control\" )]).index)\n",
    "exposed_no = len((df_yes_no[(df_yes_no['converted']==0) & (df_yes_no['experiment']== \"exposed\" )]).index)"
   ]
  },
  {
   "cell_type": "code",
   "execution_count": 12,
   "id": "352d6c7f",
   "metadata": {},
   "outputs": [
    {
     "name": "stdout",
     "output_type": "stream",
     "text": [
      "number of controled yes: 264\n",
      "number of controled no: 322\n",
      "number of exposed yes: 308\n",
      "number of exposed no: 349\n"
     ]
    }
   ],
   "source": [
    "print(f'number of controled yes: {control_yes}')\n",
    "print(f'number of controled no: {control_no}')\n",
    "print(f'number of exposed yes: {exposed_yes}')\n",
    "print(f'number of exposed no: {exposed_no}')"
   ]
  },
  {
   "cell_type": "markdown",
   "id": "ea04a403",
   "metadata": {},
   "source": [
    "## A/B testing"
   ]
  },
  {
   "cell_type": "code",
   "execution_count": null,
   "id": "27165518",
   "metadata": {},
   "outputs": [],
   "source": []
  }
 ],
 "metadata": {
  "kernelspec": {
   "display_name": "Python 3",
   "language": "python",
   "name": "python3"
  },
  "language_info": {
   "codemirror_mode": {
    "name": "ipython",
    "version": 3
   },
   "file_extension": ".py",
   "mimetype": "text/x-python",
   "name": "python",
   "nbconvert_exporter": "python",
   "pygments_lexer": "ipython3",
   "version": "3.8.5"
  }
 },
 "nbformat": 4,
 "nbformat_minor": 5
}
